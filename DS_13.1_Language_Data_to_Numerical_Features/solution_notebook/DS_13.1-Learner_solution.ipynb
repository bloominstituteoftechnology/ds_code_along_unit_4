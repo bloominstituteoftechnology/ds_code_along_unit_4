{
 "cells": [
  {
   "cell_type": "markdown",
   "metadata": {},
   "source": [
    "<hr style=\"border:2px solid gray\">\n",
    "\n",
    "\n",
    "## **STEP: 0/4** - Install prerequisites and Import libraries"
   ]
  },
  {
   "cell_type": "markdown",
   "metadata": {},
   "source": [
    "# Requirements"
   ]
  },
  {
   "cell_type": "code",
   "execution_count": null,
   "metadata": {},
   "outputs": [],
   "source": [
    "# download spacy module\n",
    "\n",
    "%%time\n",
    "\n",
    "!python -m spacy download en_core_web_sm \n",
    "# If working on Colab, restart runtime after this step or else Colab won't find spacy"
   ]
  },
  {
   "cell_type": "code",
   "execution_count": 4,
   "metadata": {},
   "outputs": [],
   "source": [
    "# Install Prerequesties\n",
    "!pip install -r requirements.txt \n"
   ]
  },
  {
   "cell_type": "markdown",
   "metadata": {},
   "source": [
    "# Import Libraries and Load Packages"
   ]
  },
  {
   "cell_type": "code",
   "execution_count": 25,
   "metadata": {},
   "outputs": [
    {
     "name": "stdout",
     "output_type": "stream",
     "text": [
      "CPU times: user 27 µs, sys: 6 µs, total: 33 µs\n",
      "Wall time: 33.9 µs\n"
     ]
    }
   ],
   "source": [
    "%%time\n",
    "\"\"\"\n",
    "Import Statements\n",
    "\"\"\"\n",
    "\n",
    "# Base\n",
    "import re\n",
    "import pandas as pd\n",
    "import numpy as np\n",
    "\n",
    "# NLP Libraries\n",
    "import spacy\n",
    "\n",
    "import nltk\n",
    "from nltk.tokenize import sent_tokenize,word_tokenize\n",
    "from nltk.corpus import stopwords\n",
    "from nltk.stem import PorterStemmer\n",
    "from nltk.stem import WordNetLemmatizer\n",
    "\n",
    "import string\n",
    "\n",
    "from sklearn.feature_extraction.text import CountVectorizer,TfidfVectorizer\n",
    "from sklearn.metrics.pairwise import cosine_similarity\n"
   ]
  },
  {
   "cell_type": "code",
   "execution_count": 20,
   "metadata": {},
   "outputs": [],
   "source": [
    "# Update the DATA_PATH variable\n",
    "\n",
    "import sys\n",
    "\n",
    "if 'google.colab' in sys.modules:\n",
    "  # If you're on Colab:\n",
    "  DATA_PATH = 'https://raw.githubusercontent.com/bloominstituteoftechnology/ds_code_along_unit_4/main/data/COVID-19-Twitter-India/'\n",
    "else:\n",
    "  # If you're working locally:\n",
    "  DATA_PATH = '..../data/'"
   ]
  },
  {
   "cell_type": "markdown",
   "metadata": {},
   "source": [
    "<hr style=\"border:2px solid gray\">\n",
    "\n",
    "## **STEP: 1/4** - Tokenization and stop words"
   ]
  },
  {
   "cell_type": "code",
   "execution_count": 26,
   "metadata": {},
   "outputs": [],
   "source": [
    "text = \"Natural language processing (NLP) is a field \" + \\\n",
    "       \"of computer science, artificial intelligence \" + \\\n",
    "       \"and computational linguistics concerned with \" + \\\n",
    "       \"the interactions between computers and human \" + \\\n",
    "       \"(natural) languages, and, in particular, \" + \\\n",
    "       \"concerned with programming computers to \" + \\\n",
    "       \"fruitfully process large natural language \" + \\\n",
    "       \"corpora. Challenges in natural language \" + \\\n",
    "       \"processing frequently involve natural \" + \\\n",
    "       \"language understanding, natural language\" + \\\n",
    "       \"generation frequently from formal, machine\" + \\\n",
    "       \"-readable logical forms, connecting language \" + \\\n",
    "       \"and machine perception, managing human-\" + \\\n",
    "       \"computer dialog systems, or some combination \" + \\\n",
    "       \"thereof.\""
   ]
  },
  {
   "cell_type": "code",
   "execution_count": 27,
   "metadata": {},
   "outputs": [
    {
     "data": {
      "text/plain": [
       "'Natural language processing (NLP) is a field of computer science, artificial intelligence and computational linguistics concerned with the interactions between computers and human (natural) languages, and, in particular, concerned with programming computers to fruitfully process large natural language corpora. Challenges in natural language processing frequently involve natural language understanding, natural languagegeneration frequently from formal, machine-readable logical forms, connecting language and machine perception, managing human-computer dialog systems, or some combination thereof.'"
      ]
     },
     "execution_count": 27,
     "metadata": {},
     "output_type": "execute_result"
    }
   ],
   "source": [
    "text"
   ]
  },
  {
   "cell_type": "markdown",
   "metadata": {},
   "source": [
    "# Tokenization using using python (case normalization and regex)"
   ]
  },
  {
   "cell_type": "code",
   "execution_count": 28,
   "metadata": {},
   "outputs": [],
   "source": [
    "sample_text = re.sub('[,().]','',text)"
   ]
  },
  {
   "cell_type": "code",
   "execution_count": 29,
   "metadata": {},
   "outputs": [],
   "source": [
    "sample_text= re.sub('-',' ',sample_text)"
   ]
  },
  {
   "cell_type": "code",
   "execution_count": 30,
   "metadata": {},
   "outputs": [
    {
     "data": {
      "text/plain": [
       "'Natural language processing NLP is a field of computer science artificial intelligence and computational linguistics concerned with the interactions between computers and human natural languages and in particular concerned with programming computers to fruitfully process large natural language corpora Challenges in natural language processing frequently involve natural language understanding natural languagegeneration frequently from formal machine readable logical forms connecting language and machine perception managing human computer dialog systems or some combination thereof'"
      ]
     },
     "execution_count": 30,
     "metadata": {},
     "output_type": "execute_result"
    }
   ],
   "source": [
    "sample_text"
   ]
  },
  {
   "cell_type": "code",
   "execution_count": 31,
   "metadata": {},
   "outputs": [],
   "source": [
    "sample_tokens = sample_text.lower().split()"
   ]
  },
  {
   "cell_type": "code",
   "execution_count": 32,
   "metadata": {},
   "outputs": [
    {
     "data": {
      "text/plain": [
       "['natural',\n",
       " 'language',\n",
       " 'processing',\n",
       " 'nlp',\n",
       " 'is',\n",
       " 'a',\n",
       " 'field',\n",
       " 'of',\n",
       " 'computer',\n",
       " 'science',\n",
       " 'artificial',\n",
       " 'intelligence',\n",
       " 'and',\n",
       " 'computational',\n",
       " 'linguistics',\n",
       " 'concerned',\n",
       " 'with',\n",
       " 'the',\n",
       " 'interactions',\n",
       " 'between',\n",
       " 'computers',\n",
       " 'and',\n",
       " 'human',\n",
       " 'natural',\n",
       " 'languages',\n",
       " 'and',\n",
       " 'in',\n",
       " 'particular',\n",
       " 'concerned',\n",
       " 'with',\n",
       " 'programming',\n",
       " 'computers',\n",
       " 'to',\n",
       " 'fruitfully',\n",
       " 'process',\n",
       " 'large',\n",
       " 'natural',\n",
       " 'language',\n",
       " 'corpora',\n",
       " 'challenges',\n",
       " 'in',\n",
       " 'natural',\n",
       " 'language',\n",
       " 'processing',\n",
       " 'frequently',\n",
       " 'involve',\n",
       " 'natural',\n",
       " 'language',\n",
       " 'understanding',\n",
       " 'natural',\n",
       " 'languagegeneration',\n",
       " 'frequently',\n",
       " 'from',\n",
       " 'formal',\n",
       " 'machine',\n",
       " 'readable',\n",
       " 'logical',\n",
       " 'forms',\n",
       " 'connecting',\n",
       " 'language',\n",
       " 'and',\n",
       " 'machine',\n",
       " 'perception',\n",
       " 'managing',\n",
       " 'human',\n",
       " 'computer',\n",
       " 'dialog',\n",
       " 'systems',\n",
       " 'or',\n",
       " 'some',\n",
       " 'combination',\n",
       " 'thereof']"
      ]
     },
     "execution_count": 32,
     "metadata": {},
     "output_type": "execute_result"
    }
   ],
   "source": [
    "sample_tokens\n"
   ]
  },
  {
   "cell_type": "markdown",
   "metadata": {},
   "source": [
    "# Tokenization using nltk\n",
    "Here we will see how to tokenize the text i.e. divide whole text into smaller chunks either chunks of sentences or chunks of words. There are two ways of tokenization i.e. sentence tokenization and word tokenization."
   ]
  },
  {
   "cell_type": "code",
   "execution_count": null,
   "metadata": {},
   "outputs": [],
   "source": [
    "#download punkt to help with tokenization\n",
    "\n",
    "nltk.download('punkt')"
   ]
  },
  {
   "cell_type": "code",
   "execution_count": 33,
   "metadata": {},
   "outputs": [
    {
     "name": "stdout",
     "output_type": "stream",
     "text": [
      "['Natural language processing (NLP) is a field of computer science, artificial intelligence and computational linguistics concerned with the interactions between computers and human (natural) languages, and, in particular, concerned with programming computers to fruitfully process large natural language corpora.', 'Challenges in natural language processing frequently involve natural language understanding, natural languagegeneration frequently from formal, machine-readable logical forms, connecting language and machine perception, managing human-computer dialog systems, or some combination thereof.'] \n",
      " ['Natural', 'language', 'processing', '(', 'NLP', ')', 'is', 'a', 'field', 'of', 'computer', 'science', ',', 'artificial', 'intelligence', 'and', 'computational', 'linguistics', 'concerned', 'with', 'the', 'interactions', 'between', 'computers', 'and', 'human', '(', 'natural', ')', 'languages', ',', 'and', ',', 'in', 'particular', ',', 'concerned', 'with', 'programming', 'computers', 'to', 'fruitfully', 'process', 'large', 'natural', 'language', 'corpora', '.', 'Challenges', 'in', 'natural', 'language', 'processing', 'frequently', 'involve', 'natural', 'language', 'understanding', ',', 'natural', 'languagegeneration', 'frequently', 'from', 'formal', ',', 'machine-readable', 'logical', 'forms', ',', 'connecting', 'language', 'and', 'machine', 'perception', ',', 'managing', 'human-computer', 'dialog', 'systems', ',', 'or', 'some', 'combination', 'thereof', '.']\n"
     ]
    }
   ],
   "source": [
    "# Here we are considering sample corpus for sentence tokenization\n",
    "\n",
    "tokenized_sents = sent_tokenize(text)\n",
    "tokenized_words = word_tokenize(text)\n",
    "\n",
    "print(tokenized_sents,'\\n',tokenized_words)"
   ]
  },
  {
   "cell_type": "markdown",
   "metadata": {},
   "source": [
    "# Remove stop words from a list of tokens\n",
    "Stopwords are the words which doesn't make that much sense when we play with sentences. For e.g the, has, have etc. So Let's remove it from list of tokens we generated above to cut down training time of building of machine learning model for downstream tasks.\n",
    "\n",
    "Let's import stopwords using nltk library and filter from list of word tokens."
   ]
  },
  {
   "cell_type": "code",
   "execution_count": null,
   "metadata": {},
   "outputs": [],
   "source": [
    "nltk.download('stopwords')"
   ]
  },
  {
   "cell_type": "code",
   "execution_count": 34,
   "metadata": {},
   "outputs": [],
   "source": [
    "#list of stop words\n",
    "stop_words = stopwords.words('English')"
   ]
  },
  {
   "cell_type": "code",
   "execution_count": 35,
   "metadata": {},
   "outputs": [],
   "source": [
    "# list of punctuations\n",
    "punctuation_list = list(string.punctuation)"
   ]
  },
  {
   "cell_type": "code",
   "execution_count": 36,
   "metadata": {},
   "outputs": [],
   "source": [
    "useless_words = stop_words + punctuation_list"
   ]
  },
  {
   "cell_type": "code",
   "execution_count": 37,
   "metadata": {},
   "outputs": [
    {
     "name": "stdout",
     "output_type": "stream",
     "text": [
      "['natural', 'language', 'processing', 'nlp', 'field', 'computer', 'science', 'artificial', 'intelligence', 'computational', 'linguistics', 'concerned', 'interactions', 'computers', 'human', 'natural', 'languages', 'particular', 'concerned', 'programming', 'computers', 'fruitfully', 'process', 'large', 'natural', 'language', 'corpora', 'challenges', 'natural', 'language', 'processing', 'frequently', 'involve', 'natural', 'language', 'understanding', 'natural', 'languagegeneration', 'frequently', 'formal', 'machine-readable', 'logical', 'forms', 'connecting', 'language', 'machine', 'perception', 'managing', 'human-computer', 'dialog', 'systems', 'combination', 'thereof']\n"
     ]
    }
   ],
   "source": [
    "filtered_tokenized_words = [word.lower() for word in tokenized_words if not word.lower() in useless_words]\n",
    "print(filtered_tokenized_words) "
   ]
  },
  {
   "cell_type": "markdown",
   "metadata": {},
   "source": [
    "<hr style=\"border:2px solid gray\">\n",
    "\n",
    "## **STEP: 2/4** - Lemmatization and Vectorization\n"
   ]
  },
  {
   "cell_type": "markdown",
   "metadata": {},
   "source": [
    "# Stemming and Lemmatization\n",
    "Stemming or lemmatization means generation of root form of inflected words. For e.g charge is derived by stemming or lemmatization of charging,charges etc.\n",
    "\n",
    "* There is little theoritical difference between these two i.e stemming may not result actual word but lemmatization will result actual word as root. So we can say that lemmatization is specialized form of stemming."
   ]
  },
  {
   "cell_type": "code",
   "execution_count": null,
   "metadata": {},
   "outputs": [],
   "source": [
    "nltk.download('wordnet') # WordNet is a large word database of English Nouns, Adjectives, Adverbs and Verbs. \n",
    "nltk.download('omw-1.4') # Multilingual WordNet data"
   ]
  },
  {
   "cell_type": "code",
   "execution_count": 38,
   "metadata": {},
   "outputs": [
    {
     "name": "stdout",
     "output_type": "stream",
     "text": [
      "program\n",
      "program\n",
      "charg\n",
      "studi\n",
      "code\n"
     ]
    }
   ],
   "source": [
    "# Stemming using NLTK\n",
    "\n",
    "ps = PorterStemmer()\n",
    "words = ['Programs','Programming','Charging','Studying','Coding']\n",
    "for w in words:\n",
    "    print(ps.stem(w))"
   ]
  },
  {
   "cell_type": "code",
   "execution_count": 39,
   "metadata": {},
   "outputs": [
    {
     "name": "stdout",
     "output_type": "stream",
     "text": [
      "rock\n",
      "program\n",
      "guest\n",
      "game\n"
     ]
    }
   ],
   "source": [
    "# Lemmatization using NLTK\n",
    "\n",
    "wnl = WordNetLemmatizer()\n",
    "\n",
    "words_ = ['rocks','programs','guests','games']\n",
    "for w in words_:\n",
    "    print(wnl.lemmatize(w))\n"
   ]
  },
  {
   "cell_type": "markdown",
   "metadata": {},
   "source": [
    "# Vectorization"
   ]
  },
  {
   "cell_type": "markdown",
   "metadata": {},
   "source": [
    "* Count Vectorizer "
   ]
  },
  {
   "cell_type": "code",
   "execution_count": 40,
   "metadata": {},
   "outputs": [
    {
     "name": "stdout",
     "output_type": "stream",
     "text": [
      "After vectorization\n",
      "[[1 0 0 1 1 2 2 0 1 0 1 0 0 0 1 1 1 1 0 2 0 1 1 1 0 0 0 3 1 1 0 1 1 1 0 1\n",
      "  0 0 0]\n",
      " [0 1 1 0 1 0 0 1 0 1 0 1 1 2 0 1 0 0 1 3 1 0 0 0 1 2 1 3 0 0 1 0 1 0 1 0\n",
      "  1 1 1]]\n"
     ]
    }
   ],
   "source": [
    "count_vectorizer = CountVectorizer(stop_words='english')\n",
    "vectors = count_vectorizer.fit(tokenized_sents)\n",
    "dtm=vectors.transform(tokenized_sents)\n",
    "\n",
    "\n",
    "print('After vectorization')\n",
    "print(dtm.toarray())"
   ]
  },
  {
   "cell_type": "code",
   "execution_count": 41,
   "metadata": {},
   "outputs": [
    {
     "data": {
      "text/plain": [
       "['artificial',\n",
       " 'challenges',\n",
       " 'combination',\n",
       " 'computational',\n",
       " 'computer',\n",
       " 'computers',\n",
       " 'concerned',\n",
       " 'connecting',\n",
       " 'corpora',\n",
       " 'dialog',\n",
       " 'field',\n",
       " 'formal',\n",
       " 'forms',\n",
       " 'frequently',\n",
       " 'fruitfully',\n",
       " 'human',\n",
       " 'intelligence',\n",
       " 'interactions',\n",
       " 'involve',\n",
       " 'language',\n",
       " 'languagegeneration',\n",
       " 'languages',\n",
       " 'large',\n",
       " 'linguistics',\n",
       " 'logical',\n",
       " 'machine',\n",
       " 'managing',\n",
       " 'natural',\n",
       " 'nlp',\n",
       " 'particular',\n",
       " 'perception',\n",
       " 'process',\n",
       " 'processing',\n",
       " 'programming',\n",
       " 'readable',\n",
       " 'science',\n",
       " 'systems',\n",
       " 'thereof',\n",
       " 'understanding']"
      ]
     },
     "execution_count": 41,
     "metadata": {},
     "output_type": "execute_result"
    }
   ],
   "source": [
    "# print vocabulary\n",
    "sorted(vectors.vocabulary_.keys())"
   ]
  },
  {
   "cell_type": "code",
   "execution_count": null,
   "metadata": {},
   "outputs": [],
   "source": [
    "vectors.get_feature_names()"
   ]
  },
  {
   "cell_type": "code",
   "execution_count": 43,
   "metadata": {},
   "outputs": [],
   "source": [
    "dtm_df= pd.DataFrame(dtm.todense(), columns=vectors.get_feature_names_out()) # remember to convert sparse matrix to dense"
   ]
  },
  {
   "cell_type": "code",
   "execution_count": 44,
   "metadata": {},
   "outputs": [
    {
     "data": {
      "text/html": [
       "<div>\n",
       "<style scoped>\n",
       "    .dataframe tbody tr th:only-of-type {\n",
       "        vertical-align: middle;\n",
       "    }\n",
       "\n",
       "    .dataframe tbody tr th {\n",
       "        vertical-align: top;\n",
       "    }\n",
       "\n",
       "    .dataframe thead th {\n",
       "        text-align: right;\n",
       "    }\n",
       "</style>\n",
       "<table border=\"1\" class=\"dataframe\">\n",
       "  <thead>\n",
       "    <tr style=\"text-align: right;\">\n",
       "      <th></th>\n",
       "      <th>artificial</th>\n",
       "      <th>challenges</th>\n",
       "      <th>combination</th>\n",
       "      <th>computational</th>\n",
       "      <th>computer</th>\n",
       "      <th>computers</th>\n",
       "      <th>concerned</th>\n",
       "      <th>connecting</th>\n",
       "      <th>corpora</th>\n",
       "      <th>dialog</th>\n",
       "      <th>...</th>\n",
       "      <th>particular</th>\n",
       "      <th>perception</th>\n",
       "      <th>process</th>\n",
       "      <th>processing</th>\n",
       "      <th>programming</th>\n",
       "      <th>readable</th>\n",
       "      <th>science</th>\n",
       "      <th>systems</th>\n",
       "      <th>thereof</th>\n",
       "      <th>understanding</th>\n",
       "    </tr>\n",
       "  </thead>\n",
       "  <tbody>\n",
       "    <tr>\n",
       "      <th>0</th>\n",
       "      <td>1</td>\n",
       "      <td>0</td>\n",
       "      <td>0</td>\n",
       "      <td>1</td>\n",
       "      <td>1</td>\n",
       "      <td>2</td>\n",
       "      <td>2</td>\n",
       "      <td>0</td>\n",
       "      <td>1</td>\n",
       "      <td>0</td>\n",
       "      <td>...</td>\n",
       "      <td>1</td>\n",
       "      <td>0</td>\n",
       "      <td>1</td>\n",
       "      <td>1</td>\n",
       "      <td>1</td>\n",
       "      <td>0</td>\n",
       "      <td>1</td>\n",
       "      <td>0</td>\n",
       "      <td>0</td>\n",
       "      <td>0</td>\n",
       "    </tr>\n",
       "    <tr>\n",
       "      <th>1</th>\n",
       "      <td>0</td>\n",
       "      <td>1</td>\n",
       "      <td>1</td>\n",
       "      <td>0</td>\n",
       "      <td>1</td>\n",
       "      <td>0</td>\n",
       "      <td>0</td>\n",
       "      <td>1</td>\n",
       "      <td>0</td>\n",
       "      <td>1</td>\n",
       "      <td>...</td>\n",
       "      <td>0</td>\n",
       "      <td>1</td>\n",
       "      <td>0</td>\n",
       "      <td>1</td>\n",
       "      <td>0</td>\n",
       "      <td>1</td>\n",
       "      <td>0</td>\n",
       "      <td>1</td>\n",
       "      <td>1</td>\n",
       "      <td>1</td>\n",
       "    </tr>\n",
       "  </tbody>\n",
       "</table>\n",
       "<p>2 rows × 39 columns</p>\n",
       "</div>"
      ],
      "text/plain": [
       "   artificial  challenges  combination  computational  computer  computers  \\\n",
       "0           1           0            0              1         1          2   \n",
       "1           0           1            1              0         1          0   \n",
       "\n",
       "   concerned  connecting  corpora  dialog  ...  particular  perception  \\\n",
       "0          2           0        1       0  ...           1           0   \n",
       "1          0           1        0       1  ...           0           1   \n",
       "\n",
       "   process  processing  programming  readable  science  systems  thereof  \\\n",
       "0        1           1            1         0        1        0        0   \n",
       "1        0           1            0         1        0        1        1   \n",
       "\n",
       "   understanding  \n",
       "0              0  \n",
       "1              1  \n",
       "\n",
       "[2 rows x 39 columns]"
      ]
     },
     "execution_count": 44,
     "metadata": {},
     "output_type": "execute_result"
    }
   ],
   "source": [
    "dtm_df\n"
   ]
  },
  {
   "cell_type": "markdown",
   "metadata": {},
   "source": [
    "* TF-IDF Vectorizer"
   ]
  },
  {
   "cell_type": "code",
   "execution_count": 45,
   "metadata": {},
   "outputs": [],
   "source": [
    "tfidf_vectorizer = TfidfVectorizer(stop_words='english',use_idf = True, analyzer = 'word',max_df=0.98, min_df=0.2) # try ngram_range=(1,2)\n",
    "tfidf_vectors = tfidf_vectorizer.fit_transform(tokenized_sents)"
   ]
  },
  {
   "cell_type": "code",
   "execution_count": 46,
   "metadata": {},
   "outputs": [],
   "source": [
    "dtm_tfid_df = pd.DataFrame(tfidf_vectors.todense(), columns=tfidf_vectorizer.get_feature_names_out())"
   ]
  },
  {
   "cell_type": "code",
   "execution_count": 47,
   "metadata": {},
   "outputs": [
    {
     "data": {
      "text/html": [
       "<div>\n",
       "<style scoped>\n",
       "    .dataframe tbody tr th:only-of-type {\n",
       "        vertical-align: middle;\n",
       "    }\n",
       "\n",
       "    .dataframe tbody tr th {\n",
       "        vertical-align: top;\n",
       "    }\n",
       "\n",
       "    .dataframe thead th {\n",
       "        text-align: right;\n",
       "    }\n",
       "</style>\n",
       "<table border=\"1\" class=\"dataframe\">\n",
       "  <thead>\n",
       "    <tr style=\"text-align: right;\">\n",
       "      <th></th>\n",
       "      <th>artificial</th>\n",
       "      <th>challenges</th>\n",
       "      <th>combination</th>\n",
       "      <th>computational</th>\n",
       "      <th>computers</th>\n",
       "      <th>concerned</th>\n",
       "      <th>connecting</th>\n",
       "      <th>corpora</th>\n",
       "      <th>dialog</th>\n",
       "      <th>field</th>\n",
       "      <th>...</th>\n",
       "      <th>nlp</th>\n",
       "      <th>particular</th>\n",
       "      <th>perception</th>\n",
       "      <th>process</th>\n",
       "      <th>programming</th>\n",
       "      <th>readable</th>\n",
       "      <th>science</th>\n",
       "      <th>systems</th>\n",
       "      <th>thereof</th>\n",
       "      <th>understanding</th>\n",
       "    </tr>\n",
       "  </thead>\n",
       "  <tbody>\n",
       "    <tr>\n",
       "      <th>0</th>\n",
       "      <td>0.208514</td>\n",
       "      <td>0.000000</td>\n",
       "      <td>0.000000</td>\n",
       "      <td>0.208514</td>\n",
       "      <td>0.417029</td>\n",
       "      <td>0.417029</td>\n",
       "      <td>0.000000</td>\n",
       "      <td>0.208514</td>\n",
       "      <td>0.000000</td>\n",
       "      <td>0.208514</td>\n",
       "      <td>...</td>\n",
       "      <td>0.208514</td>\n",
       "      <td>0.208514</td>\n",
       "      <td>0.000000</td>\n",
       "      <td>0.208514</td>\n",
       "      <td>0.208514</td>\n",
       "      <td>0.000000</td>\n",
       "      <td>0.208514</td>\n",
       "      <td>0.000000</td>\n",
       "      <td>0.000000</td>\n",
       "      <td>0.000000</td>\n",
       "    </tr>\n",
       "    <tr>\n",
       "      <th>1</th>\n",
       "      <td>0.000000</td>\n",
       "      <td>0.208514</td>\n",
       "      <td>0.208514</td>\n",
       "      <td>0.000000</td>\n",
       "      <td>0.000000</td>\n",
       "      <td>0.000000</td>\n",
       "      <td>0.208514</td>\n",
       "      <td>0.000000</td>\n",
       "      <td>0.208514</td>\n",
       "      <td>0.000000</td>\n",
       "      <td>...</td>\n",
       "      <td>0.000000</td>\n",
       "      <td>0.000000</td>\n",
       "      <td>0.208514</td>\n",
       "      <td>0.000000</td>\n",
       "      <td>0.000000</td>\n",
       "      <td>0.208514</td>\n",
       "      <td>0.000000</td>\n",
       "      <td>0.208514</td>\n",
       "      <td>0.208514</td>\n",
       "      <td>0.208514</td>\n",
       "    </tr>\n",
       "  </tbody>\n",
       "</table>\n",
       "<p>2 rows × 34 columns</p>\n",
       "</div>"
      ],
      "text/plain": [
       "   artificial  challenges  combination  computational  computers  concerned  \\\n",
       "0    0.208514    0.000000     0.000000       0.208514   0.417029   0.417029   \n",
       "1    0.000000    0.208514     0.208514       0.000000   0.000000   0.000000   \n",
       "\n",
       "   connecting   corpora    dialog     field  ...       nlp  particular  \\\n",
       "0    0.000000  0.208514  0.000000  0.208514  ...  0.208514    0.208514   \n",
       "1    0.208514  0.000000  0.208514  0.000000  ...  0.000000    0.000000   \n",
       "\n",
       "   perception   process  programming  readable   science   systems   thereof  \\\n",
       "0    0.000000  0.208514     0.208514  0.000000  0.208514  0.000000  0.000000   \n",
       "1    0.208514  0.000000     0.000000  0.208514  0.000000  0.208514  0.208514   \n",
       "\n",
       "   understanding  \n",
       "0       0.000000  \n",
       "1       0.208514  \n",
       "\n",
       "[2 rows x 34 columns]"
      ]
     },
     "execution_count": 47,
     "metadata": {},
     "output_type": "execute_result"
    }
   ],
   "source": [
    "dtm_tfid_df"
   ]
  },
  {
   "cell_type": "code",
   "execution_count": 48,
   "metadata": {},
   "outputs": [
    {
     "name": "stdout",
     "output_type": "stream",
     "text": [
      "Features names ['artificial' 'challenges' 'combination' 'computational' 'computers'\n",
      " 'concerned' 'connecting' 'corpora' 'dialog' 'field' 'formal' 'forms'\n",
      " 'frequently' 'fruitfully' 'intelligence' 'interactions' 'involve'\n",
      " 'languagegeneration' 'languages' 'large' 'linguistics' 'logical'\n",
      " 'machine' 'managing' 'nlp' 'particular' 'perception' 'process'\n",
      " 'programming' 'readable' 'science' 'systems' 'thereof' 'understanding']\n"
     ]
    }
   ],
   "source": [
    "print('Features names', tfidf_vectorizer.get_feature_names_out())"
   ]
  },
  {
   "cell_type": "markdown",
   "metadata": {},
   "source": [
    "<hr style=\"border:2px solid gray\">\n",
    "\n",
    "## **STEP: 3/4** - Working with documents\n"
   ]
  },
  {
   "cell_type": "markdown",
   "metadata": {},
   "source": [
    "# Working with documents"
   ]
  },
  {
   "cell_type": "code",
   "execution_count": 52,
   "metadata": {},
   "outputs": [],
   "source": [
    "# Let's use spacy pretrained word embeddings models trained on english wikipedia text\n",
    "nlp = spacy.load('en_core_web_sm') # here en_core_web_sm is small pretrained word embedding model, en_core_web_md -> medium size pretrained model and en_core_web_lg -> large size pretrained model"
   ]
  },
  {
   "cell_type": "code",
   "execution_count": 49,
   "metadata": {},
   "outputs": [],
   "source": [
    "# Let's work with all the tweet texts from the dataset \n",
    "data = pd.read_csv(DATA_PATH + 'tweets_2020-05-29-20.csv')\n",
    "docs = list(data['full_retweet_text'])\n",
    "\n",
    "docs = [str(tweet) for tweet in docs]"
   ]
  },
  {
   "cell_type": "code",
   "execution_count": 50,
   "metadata": {},
   "outputs": [
    {
     "data": {
      "text/plain": [
       "333"
      ]
     },
     "execution_count": 50,
     "metadata": {},
     "output_type": "execute_result"
    }
   ],
   "source": [
    "# we have 333 tweets to work with\n",
    "\n",
    "len(docs)"
   ]
  },
  {
   "cell_type": "code",
   "execution_count": null,
   "metadata": {},
   "outputs": [],
   "source": [
    "# Use Spacy to Tokenize the tweets: Remove the stop words and the punctuation\n",
    "\n",
    "spacy_stop_words = nlp.Defaults.stop_words\n",
    "\n",
    "# Initialize a list to hold the tokens\n",
    "all_doc_tokens = []\n",
    "\n",
    "# Loop over each tweet in the document (doc)\n",
    "for tweet in nlp.pipe(docs):\n",
    "    for token in tweet:\n",
    "        if (not token.is_punct) & (token.text.lower() not in spacy_stop_words):\n",
    "            all_doc_tokens.append(token.lemma_.lower())\n",
    "\n",
    "    \n",
    "print(all_doc_tokens)"
   ]
  },
  {
   "cell_type": "markdown",
   "metadata": {},
   "source": [
    "# Represent document as vector\n",
    "Let's say we have bunch of sentences in a document and we wanna do classify texts then how we can fed input to the machine learning model. As system understands numeric values, we need to convert text into numeric as feature vectors representation so that it can be fed to model."
   ]
  },
  {
   "cell_type": "markdown",
   "metadata": {},
   "source": [
    "* Count Vectorizer"
   ]
  },
  {
   "cell_type": "code",
   "execution_count": 54,
   "metadata": {},
   "outputs": [
    {
     "name": "stdout",
     "output_type": "stream",
     "text": [
      "After vectorization\n",
      "[[0 0 0 ... 0 0 0]\n",
      " [0 0 0 ... 0 0 0]\n",
      " [0 0 0 ... 0 0 0]\n",
      " ...\n",
      " [0 0 0 ... 0 0 0]\n",
      " [0 0 0 ... 0 0 0]\n",
      " [0 0 0 ... 0 0 0]]\n"
     ]
    }
   ],
   "source": [
    "# Initialize vectorizer\n",
    "count_vectorizer = CountVectorizer(stop_words='english')\n",
    "vectors = count_vectorizer.fit(docs)\n",
    "dtm = vectors.transform(docs)\n",
    "\n",
    "\n",
    "print('After vectorization')\n",
    "print(dtm.toarray())"
   ]
  },
  {
   "cell_type": "markdown",
   "metadata": {},
   "source": [
    "* TF-IDF Vectorizer"
   ]
  },
  {
   "cell_type": "code",
   "execution_count": 55,
   "metadata": {},
   "outputs": [
    {
     "name": "stdout",
     "output_type": "stream",
     "text": [
      "TF-IDF Vectors [[0. 0. 0. ... 0. 0. 0.]\n",
      " [0. 0. 0. ... 0. 0. 0.]\n",
      " [0. 0. 0. ... 0. 0. 0.]\n",
      " ...\n",
      " [0. 0. 0. ... 0. 0. 0.]\n",
      " [0. 0. 0. ... 0. 0. 0.]\n",
      " [0. 0. 0. ... 0. 0. 0.]]\n",
      "Features names ['000' '000 american' '000 cured' ... 'रष bjp' 'शक' 'शक र_शर']\n"
     ]
    }
   ],
   "source": [
    "tfidf_vectorizer = TfidfVectorizer(use_idf = True, analyzer = 'word', ngram_range=(1,2))\n",
    "tfidf_vectorizer.fit(docs)\n",
    "tfidf_vectors = tfidf_vectorizer.fit_transform(docs)\n",
    "print('TF-IDF Vectors', tfidf_vectors.toarray())\n",
    "print('Features names', tfidf_vectorizer.get_feature_names_out())"
   ]
  },
  {
   "cell_type": "markdown",
   "metadata": {},
   "source": [
    "\n",
    "<hr style=\"border:2px solid gray\">\n",
    "\n",
    "## **STEP: 4/4** - Query Similar Documents and apply Word Embeddings Model\n"
   ]
  },
  {
   "cell_type": "markdown",
   "metadata": {},
   "source": [
    "# Query documents by similarity"
   ]
  },
  {
   "cell_type": "code",
   "execution_count": 59,
   "metadata": {},
   "outputs": [],
   "source": [
    "\n",
    "# Let's consider first sentence in docs as query sentence\n",
    "query = tfidf_vectors[0:1] # you can try selecting all tweets too\n",
    "similarity_matrix = cosine_similarity(query,tfidf_vectors.toarray())"
   ]
  },
  {
   "cell_type": "code",
   "execution_count": 60,
   "metadata": {},
   "outputs": [],
   "source": [
    "df = pd.DataFrame(similarity_matrix)"
   ]
  },
  {
   "cell_type": "code",
   "execution_count": 61,
   "metadata": {},
   "outputs": [
    {
     "data": {
      "text/html": [
       "<div>\n",
       "<style scoped>\n",
       "    .dataframe tbody tr th:only-of-type {\n",
       "        vertical-align: middle;\n",
       "    }\n",
       "\n",
       "    .dataframe tbody tr th {\n",
       "        vertical-align: top;\n",
       "    }\n",
       "\n",
       "    .dataframe thead th {\n",
       "        text-align: right;\n",
       "    }\n",
       "</style>\n",
       "<table border=\"1\" class=\"dataframe\">\n",
       "  <thead>\n",
       "    <tr style=\"text-align: right;\">\n",
       "      <th></th>\n",
       "      <th>0</th>\n",
       "      <th>1</th>\n",
       "      <th>2</th>\n",
       "      <th>3</th>\n",
       "      <th>4</th>\n",
       "      <th>5</th>\n",
       "      <th>6</th>\n",
       "      <th>7</th>\n",
       "      <th>8</th>\n",
       "      <th>9</th>\n",
       "      <th>...</th>\n",
       "      <th>323</th>\n",
       "      <th>324</th>\n",
       "      <th>325</th>\n",
       "      <th>326</th>\n",
       "      <th>327</th>\n",
       "      <th>328</th>\n",
       "      <th>329</th>\n",
       "      <th>330</th>\n",
       "      <th>331</th>\n",
       "      <th>332</th>\n",
       "    </tr>\n",
       "  </thead>\n",
       "  <tbody>\n",
       "    <tr>\n",
       "      <th>0</th>\n",
       "      <td>1.0</td>\n",
       "      <td>0.0</td>\n",
       "      <td>0.008562</td>\n",
       "      <td>0.022453</td>\n",
       "      <td>0.009981</td>\n",
       "      <td>0.035421</td>\n",
       "      <td>0.01643</td>\n",
       "      <td>0.019815</td>\n",
       "      <td>0.003262</td>\n",
       "      <td>0.023725</td>\n",
       "      <td>...</td>\n",
       "      <td>0.0</td>\n",
       "      <td>0.01228</td>\n",
       "      <td>0.0</td>\n",
       "      <td>0.018053</td>\n",
       "      <td>0.030093</td>\n",
       "      <td>0.042061</td>\n",
       "      <td>0.0</td>\n",
       "      <td>0.020359</td>\n",
       "      <td>0.006193</td>\n",
       "      <td>0.023989</td>\n",
       "    </tr>\n",
       "  </tbody>\n",
       "</table>\n",
       "<p>1 rows × 333 columns</p>\n",
       "</div>"
      ],
      "text/plain": [
       "   0    1         2         3         4         5        6         7    \\\n",
       "0  1.0  0.0  0.008562  0.022453  0.009981  0.035421  0.01643  0.019815   \n",
       "\n",
       "        8         9    ...  323      324  325       326       327       328  \\\n",
       "0  0.003262  0.023725  ...  0.0  0.01228  0.0  0.018053  0.030093  0.042061   \n",
       "\n",
       "   329       330       331       332  \n",
       "0  0.0  0.020359  0.006193  0.023989  \n",
       "\n",
       "[1 rows x 333 columns]"
      ]
     },
     "execution_count": 61,
     "metadata": {},
     "output_type": "execute_result"
    }
   ],
   "source": [
    "df "
   ]
  },
  {
   "cell_type": "markdown",
   "metadata": {},
   "source": [
    "# Apply Word Embeddings Model to create Document Vectors\n",
    "\n",
    "Let's explore another method to create document vectors i.e. pretrained word embeddings models to get contextual features from given text sequences. These document vectors can help to classify sentences and many other downstream tasks further."
   ]
  },
  {
   "cell_type": "code",
   "execution_count": null,
   "metadata": {},
   "outputs": [],
   "source": [
    "# Here for each word in sentence particular value is being assigned as per spacy pretrained word embedding model\n",
    "embed_vectors = [nlp(tweet).vector for tweet in docs]\n",
    "print(embed_vectors)"
   ]
  },
  {
   "cell_type": "code",
   "execution_count": 64,
   "metadata": {},
   "outputs": [],
   "source": [
    "df_embed = pd.DataFrame(embed_vectors)"
   ]
  },
  {
   "cell_type": "code",
   "execution_count": 65,
   "metadata": {},
   "outputs": [
    {
     "data": {
      "text/html": [
       "<div>\n",
       "<style scoped>\n",
       "    .dataframe tbody tr th:only-of-type {\n",
       "        vertical-align: middle;\n",
       "    }\n",
       "\n",
       "    .dataframe tbody tr th {\n",
       "        vertical-align: top;\n",
       "    }\n",
       "\n",
       "    .dataframe thead th {\n",
       "        text-align: right;\n",
       "    }\n",
       "</style>\n",
       "<table border=\"1\" class=\"dataframe\">\n",
       "  <thead>\n",
       "    <tr style=\"text-align: right;\">\n",
       "      <th></th>\n",
       "      <th>0</th>\n",
       "      <th>1</th>\n",
       "      <th>2</th>\n",
       "      <th>3</th>\n",
       "      <th>4</th>\n",
       "      <th>5</th>\n",
       "      <th>6</th>\n",
       "      <th>7</th>\n",
       "      <th>8</th>\n",
       "      <th>9</th>\n",
       "      <th>...</th>\n",
       "      <th>86</th>\n",
       "      <th>87</th>\n",
       "      <th>88</th>\n",
       "      <th>89</th>\n",
       "      <th>90</th>\n",
       "      <th>91</th>\n",
       "      <th>92</th>\n",
       "      <th>93</th>\n",
       "      <th>94</th>\n",
       "      <th>95</th>\n",
       "    </tr>\n",
       "  </thead>\n",
       "  <tbody>\n",
       "    <tr>\n",
       "      <th>0</th>\n",
       "      <td>0.178197</td>\n",
       "      <td>0.038105</td>\n",
       "      <td>0.024406</td>\n",
       "      <td>-0.342687</td>\n",
       "      <td>0.137231</td>\n",
       "      <td>0.109897</td>\n",
       "      <td>-0.470721</td>\n",
       "      <td>0.209237</td>\n",
       "      <td>0.190906</td>\n",
       "      <td>0.175024</td>\n",
       "      <td>...</td>\n",
       "      <td>0.206177</td>\n",
       "      <td>-0.074054</td>\n",
       "      <td>-0.624755</td>\n",
       "      <td>0.336991</td>\n",
       "      <td>-0.202258</td>\n",
       "      <td>-0.094049</td>\n",
       "      <td>-0.237105</td>\n",
       "      <td>0.344203</td>\n",
       "      <td>0.324530</td>\n",
       "      <td>0.345032</td>\n",
       "    </tr>\n",
       "    <tr>\n",
       "      <th>1</th>\n",
       "      <td>2.698226</td>\n",
       "      <td>0.182291</td>\n",
       "      <td>0.196163</td>\n",
       "      <td>-1.254865</td>\n",
       "      <td>-1.533015</td>\n",
       "      <td>0.206064</td>\n",
       "      <td>-0.537408</td>\n",
       "      <td>1.261437</td>\n",
       "      <td>1.196564</td>\n",
       "      <td>-0.431594</td>\n",
       "      <td>...</td>\n",
       "      <td>-0.785855</td>\n",
       "      <td>-0.521321</td>\n",
       "      <td>-0.729125</td>\n",
       "      <td>0.086701</td>\n",
       "      <td>-0.109811</td>\n",
       "      <td>0.991540</td>\n",
       "      <td>0.884877</td>\n",
       "      <td>2.728298</td>\n",
       "      <td>0.104550</td>\n",
       "      <td>1.418898</td>\n",
       "    </tr>\n",
       "    <tr>\n",
       "      <th>2</th>\n",
       "      <td>0.768992</td>\n",
       "      <td>-0.068758</td>\n",
       "      <td>-0.103599</td>\n",
       "      <td>-0.010683</td>\n",
       "      <td>0.115504</td>\n",
       "      <td>0.171835</td>\n",
       "      <td>-0.651004</td>\n",
       "      <td>-0.131217</td>\n",
       "      <td>0.298662</td>\n",
       "      <td>0.163337</td>\n",
       "      <td>...</td>\n",
       "      <td>-0.319197</td>\n",
       "      <td>-0.433490</td>\n",
       "      <td>-0.599921</td>\n",
       "      <td>-0.234984</td>\n",
       "      <td>0.108900</td>\n",
       "      <td>-0.132587</td>\n",
       "      <td>0.022678</td>\n",
       "      <td>0.369493</td>\n",
       "      <td>0.096096</td>\n",
       "      <td>-0.263887</td>\n",
       "    </tr>\n",
       "    <tr>\n",
       "      <th>3</th>\n",
       "      <td>0.167787</td>\n",
       "      <td>-0.070213</td>\n",
       "      <td>0.061516</td>\n",
       "      <td>0.067428</td>\n",
       "      <td>-0.025000</td>\n",
       "      <td>0.063575</td>\n",
       "      <td>-0.366887</td>\n",
       "      <td>0.046630</td>\n",
       "      <td>0.264854</td>\n",
       "      <td>0.086271</td>\n",
       "      <td>...</td>\n",
       "      <td>0.113987</td>\n",
       "      <td>0.006707</td>\n",
       "      <td>-0.262098</td>\n",
       "      <td>0.158845</td>\n",
       "      <td>-0.210786</td>\n",
       "      <td>-0.346910</td>\n",
       "      <td>0.045913</td>\n",
       "      <td>-0.128698</td>\n",
       "      <td>0.146041</td>\n",
       "      <td>0.126022</td>\n",
       "    </tr>\n",
       "    <tr>\n",
       "      <th>4</th>\n",
       "      <td>0.184401</td>\n",
       "      <td>0.286167</td>\n",
       "      <td>0.370524</td>\n",
       "      <td>-0.259738</td>\n",
       "      <td>-0.294947</td>\n",
       "      <td>0.514672</td>\n",
       "      <td>-0.428766</td>\n",
       "      <td>-0.160979</td>\n",
       "      <td>0.845089</td>\n",
       "      <td>0.372120</td>\n",
       "      <td>...</td>\n",
       "      <td>0.034547</td>\n",
       "      <td>0.167993</td>\n",
       "      <td>-0.241829</td>\n",
       "      <td>-0.317188</td>\n",
       "      <td>0.159859</td>\n",
       "      <td>-0.433067</td>\n",
       "      <td>0.054420</td>\n",
       "      <td>0.024135</td>\n",
       "      <td>0.573659</td>\n",
       "      <td>-0.369331</td>\n",
       "    </tr>\n",
       "    <tr>\n",
       "      <th>...</th>\n",
       "      <td>...</td>\n",
       "      <td>...</td>\n",
       "      <td>...</td>\n",
       "      <td>...</td>\n",
       "      <td>...</td>\n",
       "      <td>...</td>\n",
       "      <td>...</td>\n",
       "      <td>...</td>\n",
       "      <td>...</td>\n",
       "      <td>...</td>\n",
       "      <td>...</td>\n",
       "      <td>...</td>\n",
       "      <td>...</td>\n",
       "      <td>...</td>\n",
       "      <td>...</td>\n",
       "      <td>...</td>\n",
       "      <td>...</td>\n",
       "      <td>...</td>\n",
       "      <td>...</td>\n",
       "      <td>...</td>\n",
       "      <td>...</td>\n",
       "    </tr>\n",
       "    <tr>\n",
       "      <th>328</th>\n",
       "      <td>-0.059690</td>\n",
       "      <td>0.303378</td>\n",
       "      <td>0.240624</td>\n",
       "      <td>0.018851</td>\n",
       "      <td>-0.261259</td>\n",
       "      <td>-0.114480</td>\n",
       "      <td>-0.374483</td>\n",
       "      <td>-0.003789</td>\n",
       "      <td>0.303777</td>\n",
       "      <td>0.228572</td>\n",
       "      <td>...</td>\n",
       "      <td>0.598605</td>\n",
       "      <td>-0.113086</td>\n",
       "      <td>-0.142512</td>\n",
       "      <td>-0.024820</td>\n",
       "      <td>-0.241463</td>\n",
       "      <td>-0.467789</td>\n",
       "      <td>-0.195620</td>\n",
       "      <td>-0.031800</td>\n",
       "      <td>0.183066</td>\n",
       "      <td>-0.035960</td>\n",
       "    </tr>\n",
       "    <tr>\n",
       "      <th>329</th>\n",
       "      <td>2.698226</td>\n",
       "      <td>0.182291</td>\n",
       "      <td>0.196163</td>\n",
       "      <td>-1.254865</td>\n",
       "      <td>-1.533015</td>\n",
       "      <td>0.206064</td>\n",
       "      <td>-0.537408</td>\n",
       "      <td>1.261437</td>\n",
       "      <td>1.196564</td>\n",
       "      <td>-0.431594</td>\n",
       "      <td>...</td>\n",
       "      <td>-0.785855</td>\n",
       "      <td>-0.521321</td>\n",
       "      <td>-0.729125</td>\n",
       "      <td>0.086701</td>\n",
       "      <td>-0.109811</td>\n",
       "      <td>0.991540</td>\n",
       "      <td>0.884877</td>\n",
       "      <td>2.728298</td>\n",
       "      <td>0.104550</td>\n",
       "      <td>1.418898</td>\n",
       "    </tr>\n",
       "    <tr>\n",
       "      <th>330</th>\n",
       "      <td>0.001256</td>\n",
       "      <td>0.029498</td>\n",
       "      <td>0.121657</td>\n",
       "      <td>0.042041</td>\n",
       "      <td>-0.123596</td>\n",
       "      <td>-0.249053</td>\n",
       "      <td>-0.221475</td>\n",
       "      <td>-0.204886</td>\n",
       "      <td>0.197770</td>\n",
       "      <td>0.226347</td>\n",
       "      <td>...</td>\n",
       "      <td>0.601223</td>\n",
       "      <td>-0.149356</td>\n",
       "      <td>-0.121632</td>\n",
       "      <td>0.187688</td>\n",
       "      <td>-0.081365</td>\n",
       "      <td>-0.429411</td>\n",
       "      <td>0.065073</td>\n",
       "      <td>-0.199160</td>\n",
       "      <td>0.093544</td>\n",
       "      <td>-0.148340</td>\n",
       "    </tr>\n",
       "    <tr>\n",
       "      <th>331</th>\n",
       "      <td>0.345819</td>\n",
       "      <td>-0.031832</td>\n",
       "      <td>0.125749</td>\n",
       "      <td>-0.301722</td>\n",
       "      <td>-0.319915</td>\n",
       "      <td>0.271491</td>\n",
       "      <td>0.004907</td>\n",
       "      <td>-0.033300</td>\n",
       "      <td>0.011422</td>\n",
       "      <td>-0.066301</td>\n",
       "      <td>...</td>\n",
       "      <td>-0.057659</td>\n",
       "      <td>0.159972</td>\n",
       "      <td>-0.264241</td>\n",
       "      <td>0.258170</td>\n",
       "      <td>0.117200</td>\n",
       "      <td>-0.377605</td>\n",
       "      <td>0.090091</td>\n",
       "      <td>0.028164</td>\n",
       "      <td>0.407784</td>\n",
       "      <td>-0.060219</td>\n",
       "    </tr>\n",
       "    <tr>\n",
       "      <th>332</th>\n",
       "      <td>0.257863</td>\n",
       "      <td>-0.092790</td>\n",
       "      <td>0.107342</td>\n",
       "      <td>-0.151336</td>\n",
       "      <td>0.047412</td>\n",
       "      <td>0.166585</td>\n",
       "      <td>-0.347250</td>\n",
       "      <td>0.077843</td>\n",
       "      <td>0.017713</td>\n",
       "      <td>0.072562</td>\n",
       "      <td>...</td>\n",
       "      <td>0.295230</td>\n",
       "      <td>-0.025215</td>\n",
       "      <td>-0.155478</td>\n",
       "      <td>0.027763</td>\n",
       "      <td>-0.417607</td>\n",
       "      <td>-0.214360</td>\n",
       "      <td>-0.080481</td>\n",
       "      <td>-0.063156</td>\n",
       "      <td>0.103365</td>\n",
       "      <td>0.303920</td>\n",
       "    </tr>\n",
       "  </tbody>\n",
       "</table>\n",
       "<p>333 rows × 96 columns</p>\n",
       "</div>"
      ],
      "text/plain": [
       "           0         1         2         3         4         5         6   \\\n",
       "0    0.178197  0.038105  0.024406 -0.342687  0.137231  0.109897 -0.470721   \n",
       "1    2.698226  0.182291  0.196163 -1.254865 -1.533015  0.206064 -0.537408   \n",
       "2    0.768992 -0.068758 -0.103599 -0.010683  0.115504  0.171835 -0.651004   \n",
       "3    0.167787 -0.070213  0.061516  0.067428 -0.025000  0.063575 -0.366887   \n",
       "4    0.184401  0.286167  0.370524 -0.259738 -0.294947  0.514672 -0.428766   \n",
       "..        ...       ...       ...       ...       ...       ...       ...   \n",
       "328 -0.059690  0.303378  0.240624  0.018851 -0.261259 -0.114480 -0.374483   \n",
       "329  2.698226  0.182291  0.196163 -1.254865 -1.533015  0.206064 -0.537408   \n",
       "330  0.001256  0.029498  0.121657  0.042041 -0.123596 -0.249053 -0.221475   \n",
       "331  0.345819 -0.031832  0.125749 -0.301722 -0.319915  0.271491  0.004907   \n",
       "332  0.257863 -0.092790  0.107342 -0.151336  0.047412  0.166585 -0.347250   \n",
       "\n",
       "           7         8         9   ...        86        87        88  \\\n",
       "0    0.209237  0.190906  0.175024  ...  0.206177 -0.074054 -0.624755   \n",
       "1    1.261437  1.196564 -0.431594  ... -0.785855 -0.521321 -0.729125   \n",
       "2   -0.131217  0.298662  0.163337  ... -0.319197 -0.433490 -0.599921   \n",
       "3    0.046630  0.264854  0.086271  ...  0.113987  0.006707 -0.262098   \n",
       "4   -0.160979  0.845089  0.372120  ...  0.034547  0.167993 -0.241829   \n",
       "..        ...       ...       ...  ...       ...       ...       ...   \n",
       "328 -0.003789  0.303777  0.228572  ...  0.598605 -0.113086 -0.142512   \n",
       "329  1.261437  1.196564 -0.431594  ... -0.785855 -0.521321 -0.729125   \n",
       "330 -0.204886  0.197770  0.226347  ...  0.601223 -0.149356 -0.121632   \n",
       "331 -0.033300  0.011422 -0.066301  ... -0.057659  0.159972 -0.264241   \n",
       "332  0.077843  0.017713  0.072562  ...  0.295230 -0.025215 -0.155478   \n",
       "\n",
       "           89        90        91        92        93        94        95  \n",
       "0    0.336991 -0.202258 -0.094049 -0.237105  0.344203  0.324530  0.345032  \n",
       "1    0.086701 -0.109811  0.991540  0.884877  2.728298  0.104550  1.418898  \n",
       "2   -0.234984  0.108900 -0.132587  0.022678  0.369493  0.096096 -0.263887  \n",
       "3    0.158845 -0.210786 -0.346910  0.045913 -0.128698  0.146041  0.126022  \n",
       "4   -0.317188  0.159859 -0.433067  0.054420  0.024135  0.573659 -0.369331  \n",
       "..        ...       ...       ...       ...       ...       ...       ...  \n",
       "328 -0.024820 -0.241463 -0.467789 -0.195620 -0.031800  0.183066 -0.035960  \n",
       "329  0.086701 -0.109811  0.991540  0.884877  2.728298  0.104550  1.418898  \n",
       "330  0.187688 -0.081365 -0.429411  0.065073 -0.199160  0.093544 -0.148340  \n",
       "331  0.258170  0.117200 -0.377605  0.090091  0.028164  0.407784 -0.060219  \n",
       "332  0.027763 -0.417607 -0.214360 -0.080481 -0.063156  0.103365  0.303920  \n",
       "\n",
       "[333 rows x 96 columns]"
      ]
     },
     "execution_count": 65,
     "metadata": {},
     "output_type": "execute_result"
    }
   ],
   "source": [
    "df_embed"
   ]
  }
 ],
 "metadata": {
  "interpreter": {
   "hash": "ce79a19f9cc0947084b77b508553b033dcdc8c0342682895062865bfd70db225"
  },
  "kernelspec": {
   "display_name": "Python 3.8.9 ('Code-gKRmiwwc')",
   "language": "python",
   "name": "python3"
  },
  "language_info": {
   "codemirror_mode": {
    "name": "ipython",
    "version": 3
   },
   "file_extension": ".py",
   "mimetype": "text/x-python",
   "name": "python",
   "nbconvert_exporter": "python",
   "pygments_lexer": "ipython3",
   "version": "3.8.9"
  },
  "orig_nbformat": 4
 },
 "nbformat": 4,
 "nbformat_minor": 2
}
