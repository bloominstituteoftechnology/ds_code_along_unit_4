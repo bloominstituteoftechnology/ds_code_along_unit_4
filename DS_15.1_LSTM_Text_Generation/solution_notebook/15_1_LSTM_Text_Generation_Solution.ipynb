{
  "nbformat": 4,
  "nbformat_minor": 0,
  "metadata": {
    "colab": {
      "name": "15.1-LSTM_Text_Generation_Solution.ipynb",
      "provenance": [],
      "collapsed_sections": []
    },
    "kernelspec": {
      "name": "python3",
      "display_name": "Python 3"
    },
    "language_info": {
      "name": "python"
    },
    "gpuClass": "standard",
    "accelerator": "GPU"
  },
  "cells": [
    {
      "cell_type": "markdown",
      "source": [
        "# Objective Of This Code Along:\n",
        " \n",
        "Make sure learners understand the text generation using LSTM."
      ],
      "metadata": {
        "id": "COa0dklmCIcS"
      }
    },
    {
      "cell_type": "markdown",
      "source": [
        "# Jump to [Part 1](#Step1)"
      ],
      "metadata": {
        "id": "4m9_1rAMCUIc"
      }
    },
    {
      "cell_type": "markdown",
      "source": [
        "# Import Libraries"
      ],
      "metadata": {
        "id": "ajv_zqIkCU8o"
      }
    },
    {
      "cell_type": "code",
      "execution_count": null,
      "metadata": {
        "id": "8Mun2M8UUzdq"
      },
      "outputs": [],
      "source": [
        "from tensorflow.keras.preprocessing.sequence import pad_sequences\n",
        "from tensorflow.keras.layers import Embedding, LSTM, Dense, Dropout, Bidirectional\n",
        "from tensorflow.keras.preprocessing.text import Tokenizer\n",
        "from tensorflow.keras.models import Sequential\n",
        "from tensorflow.keras.optimizers import Adam\n",
        "from tensorflow.keras import regularizers\n",
        "import tensorflow.keras.utils as ku \n",
        "import numpy as np\n",
        "import matplotlib.pyplot as plt"
      ]
    },
    {
      "cell_type": "markdown",
      "source": [
        "<hr style=\"border:2px solid gray\">\n",
        "<a name= \"Step1\"></a>\n",
        "\n",
        "# <font color='RED'> **MAKE SURE TO RUN ALL PREVIOUS CELLS**"
      ],
      "metadata": {
        "id": "GGjNKLo-1UoR"
      }
    },
    {
      "cell_type": "markdown",
      "source": [
        "\n",
        "- Load sonnets text from shakespeare \n",
        "- use tensorflow `Tokenizer` function to tokenize all the text "
      ],
      "metadata": {
        "id": "sutRPyK1DoXM"
      }
    },
    {
      "cell_type": "code",
      "source": [
        "from google.colab import drive\n",
        "drive.mount('/content/drive/')"
      ],
      "metadata": {
        "colab": {
          "base_uri": "https://localhost:8080/"
        },
        "id": "YBYJoa_oECJ0",
        "outputId": "f8800701-930f-4df5-c511-26e72abcf14b"
      },
      "execution_count": null,
      "outputs": [
        {
          "output_type": "stream",
          "name": "stdout",
          "text": [
            "Drive already mounted at /content/drive/; to attempt to forcibly remount, call drive.mount(\"/content/drive/\", force_remount=True).\n"
          ]
        }
      ]
    },
    {
      "cell_type": "code",
      "source": [
        "data = open('/content/drive/MyDrive/DS_Sprint_13_14_15/Version3/S15/S15.1/sonnets.txt').read()\n",
        "corpus = data.lower().split(\"\\n\")"
      ],
      "metadata": {
        "id": "SEmOpjaQ9MKn"
      },
      "execution_count": null,
      "outputs": []
    },
    {
      "cell_type": "code",
      "source": [
        "tokenizer = Tokenizer()\n",
        "tokenizer.fit_on_texts(corpus)\n",
        "total_words = len(tokenizer.word_index) + 1"
      ],
      "metadata": {
        "id": "LHuvqnydBE66"
      },
      "execution_count": null,
      "outputs": []
    },
    {
      "cell_type": "markdown",
      "source": [
        "\n",
        "- create list of n-gram sequence\n",
        "- pad the sequence\n",
        "- create input and output from the list of padded n-gram sequences"
      ],
      "metadata": {
        "id": "J1YRSOwKJ_-w"
      }
    },
    {
      "cell_type": "code",
      "source": [
        "# create input sequences using list of tokens\n",
        "input_sequences = []\n",
        "for line in corpus:\n",
        "    token_list = tokenizer.texts_to_sequences([line])[0]\n",
        "    for i in range(1, len(token_list)):\n",
        "        n_gram_sequence = token_list[:i+1]\n",
        "        input_sequences.append(n_gram_sequence)"
      ],
      "metadata": {
        "id": "Y4CZWinT9zLC"
      },
      "execution_count": null,
      "outputs": []
    },
    {
      "cell_type": "code",
      "source": [
        "# pad sequences \n",
        "max_sequence_len = max([len(x) for x in input_sequences])\n",
        "input_sequences = np.array(pad_sequences(input_sequences, maxlen=max_sequence_len, padding='pre'))"
      ],
      "metadata": {
        "id": "a6fXVAgA_i__"
      },
      "execution_count": null,
      "outputs": []
    },
    {
      "cell_type": "code",
      "source": [
        "# create predictors and label\n",
        "predictors, label = input_sequences[:,:-1],input_sequences[:,-1]\n",
        "label = ku.to_categorical(label, num_classes=total_words)"
      ],
      "metadata": {
        "id": "OLWGtaLm_kpR"
      },
      "execution_count": null,
      "outputs": []
    },
    {
      "cell_type": "markdown",
      "source": [
        "\n",
        "- use 100 dimensional embeddings for each word\n",
        "- apply bidirectional lstm layer on top of embeddings\n",
        "- for regularization, use dropout\n",
        "- on the top use lstm and dense layers"
      ],
      "metadata": {
        "id": "mUEaOoeLHUh4"
      }
    },
    {
      "cell_type": "code",
      "source": [
        "model = Sequential()\n",
        "model.add(Embedding(total_words, 100, input_length=max_sequence_len-1))\n",
        "model.add(Bidirectional(LSTM(150, return_sequences = True)))\n",
        "model.add(Dropout(0.2))\n",
        "model.add(LSTM(100))\n",
        "model.add(Dense(total_words/2, activation='relu', kernel_regularizer=regularizers.l2(0.01)))\n",
        "model.add(Dense(total_words, activation='softmax'))\n",
        "model.compile(loss='categorical_crossentropy', optimizer='adam', metrics=['accuracy'])\n",
        "print(model.summary())"
      ],
      "metadata": {
        "colab": {
          "base_uri": "https://localhost:8080/"
        },
        "id": "1VNKIvQs_mTw",
        "outputId": "8875a666-8075-49bb-b30f-ab65e3ce353a"
      },
      "execution_count": null,
      "outputs": [
        {
          "output_type": "stream",
          "name": "stdout",
          "text": [
            "Model: \"sequential\"\n",
            "_________________________________________________________________\n",
            " Layer (type)                Output Shape              Param #   \n",
            "=================================================================\n",
            " embedding (Embedding)       (None, 10, 100)           337500    \n",
            "                                                                 \n",
            " bidirectional (Bidirectiona  (None, 10, 300)          301200    \n",
            " l)                                                              \n",
            "                                                                 \n",
            " dropout (Dropout)           (None, 10, 300)           0         \n",
            "                                                                 \n",
            " lstm_1 (LSTM)               (None, 100)               160400    \n",
            "                                                                 \n",
            " dense (Dense)               (None, 1687)              170387    \n",
            "                                                                 \n",
            " dense_1 (Dense)             (None, 3375)              5697000   \n",
            "                                                                 \n",
            "=================================================================\n",
            "Total params: 6,666,487\n",
            "Trainable params: 6,666,487\n",
            "Non-trainable params: 0\n",
            "_________________________________________________________________\n",
            "None\n"
          ]
        }
      ]
    },
    {
      "cell_type": "markdown",
      "source": [
        "\n",
        "- fit the model using `model.fit`\n",
        "- plot the accuracy and loss graphs\n",
        "- predict the next word given the seed words"
      ],
      "metadata": {
        "id": "HGUMOlsQHbqo"
      }
    },
    {
      "cell_type": "code",
      "source": [
        "epochs = 10\n",
        "history = model.fit(predictors, label, epochs=epochs, verbose=1)"
      ],
      "metadata": {
        "colab": {
          "base_uri": "https://localhost:8080/"
        },
        "id": "2k4PMRhI_nhC",
        "outputId": "fc486de1-f31c-4269-8e64-f8ee067cbcb6"
      },
      "execution_count": null,
      "outputs": [
        {
          "output_type": "stream",
          "name": "stdout",
          "text": [
            "Epoch 1/10\n",
            "484/484 [==============================] - 11s 10ms/step - loss: 6.9184 - accuracy: 0.0198\n",
            "Epoch 2/10\n",
            "484/484 [==============================] - 5s 10ms/step - loss: 6.5102 - accuracy: 0.0218\n",
            "Epoch 3/10\n",
            "484/484 [==============================] - 5s 10ms/step - loss: 6.4048 - accuracy: 0.0251\n",
            "Epoch 4/10\n",
            "484/484 [==============================] - 5s 10ms/step - loss: 6.2827 - accuracy: 0.0295\n",
            "Epoch 5/10\n",
            "484/484 [==============================] - 5s 10ms/step - loss: 6.1916 - accuracy: 0.0362\n",
            "Epoch 6/10\n",
            "484/484 [==============================] - 5s 10ms/step - loss: 6.1090 - accuracy: 0.0383\n",
            "Epoch 7/10\n",
            "484/484 [==============================] - 5s 10ms/step - loss: 6.0312 - accuracy: 0.0409\n",
            "Epoch 8/10\n",
            "484/484 [==============================] - 5s 10ms/step - loss: 5.9475 - accuracy: 0.0439\n",
            "Epoch 9/10\n",
            "484/484 [==============================] - 6s 11ms/step - loss: 5.8475 - accuracy: 0.0492\n",
            "Epoch 10/10\n",
            "484/484 [==============================] - 5s 11ms/step - loss: 5.7387 - accuracy: 0.0585\n"
          ]
        }
      ]
    },
    {
      "cell_type": "code",
      "source": [
        "plt.plot(range(epochs), history.history['accuracy']);"
      ],
      "metadata": {
        "id": "6USXXSxw_tIk",
        "colab": {
          "base_uri": "https://localhost:8080/",
          "height": 267
        },
        "outputId": "e9182d9c-89b2-4595-d5a8-52b067072744"
      },
      "execution_count": null,
      "outputs": [
        {
          "output_type": "display_data",
          "data": {
            "text/plain": [
              "<Figure size 432x288 with 1 Axes>"
            ],
            "image/png": "[encoded data removed]"
          },
          "metadata": {
            "needs_background": "light"
          }
        }
      ]
    },
    {
      "cell_type": "code",
      "source": [
        "plt.plot(range(epochs), history.history['loss']);"
      ],
      "metadata": {
        "colab": {
          "base_uri": "https://localhost:8080/",
          "height": 265
        },
        "id": "20lGoyYCPGEj",
        "outputId": "afb7e424-19a3-43c1-9a6e-26009d2efc8a"
      },
      "execution_count": null,
      "outputs": [
        {
          "output_type": "display_data",
          "data": {
            "text/plain": [
              "<Figure size 432x288 with 1 Axes>"
            ],
            "image/png": "[encoded data removed]"
          },
          "metadata": {
            "needs_background": "light"
          }
        }
      ]
    },
    {
      "cell_type": "code",
      "source": [
        "seed_text = \"And dig deep\"\n",
        "next_words = 5"
      ],
      "metadata": {
        "id": "gTbcFk3oPvFL"
      },
      "execution_count": null,
      "outputs": []
    },
    {
      "cell_type": "code",
      "source": [
        "for _ in range(next_words):\n",
        "    \n",
        "    token_list = tokenizer.texts_to_sequences([seed_text])[0]\n",
        "    token_list = pad_sequences([token_list], maxlen=max_sequence_len-1, padding='pre')\n",
        "    predicted_ = model.predict(token_list, verbose=0)\n",
        "    predicted = np.argmax(predicted_)\n",
        "\n",
        "    output_word = \"\"\n",
        "    for word, index in tokenizer.word_index.items():\n",
        "        if index == predicted:\n",
        "            output_word = word\n",
        "            break\n",
        "    seed_text += \" \" + output_word\n",
        "    print(seed_text)"
      ],
      "metadata": {
        "colab": {
          "base_uri": "https://localhost:8080/"
        },
        "id": "14IQcV5SP6e2",
        "outputId": "6342ff5f-2bf1-43e6-da82-9862fa182fa3"
      },
      "execution_count": null,
      "outputs": [
        {
          "output_type": "stream",
          "name": "stdout",
          "text": [
            "And dig deep in\n",
            "And dig deep in the\n",
            "And dig deep in the love\n",
            "And dig deep in the love of\n",
            "And dig deep in the love of be\n"
          ]
        }
      ]
    },
    {
      "cell_type": "markdown",
      "source": [
        "# <font color='orange'>**STOP HERE**"
      ],
      "metadata": {
        "id": "KFadd0v1RX4S"
      }
    },
    {
      "cell_type": "code",
      "source": [
        ""
      ],
      "metadata": {
        "id": "v_r6AkegRYgo"
      },
      "execution_count": null,
      "outputs": []
    }
  ]
}